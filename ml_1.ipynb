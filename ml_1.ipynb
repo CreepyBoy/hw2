{
 "cells": [
  {
   "cell_type": "code",
   "execution_count": 206,
   "id": "b7c151ee-91f1-423a-9572-8bf726b4bc27",
   "metadata": {},
   "outputs": [],
   "source": [
    "from tensorflow import keras\n",
    "from tensorflow.keras.layers import Dense, Flatten, Dropout, BatchNormalization, Conv2D, MaxPooling2D, Reshape, UpSampling2D, Conv2DTranspose\n",
    "import tensorflow as tf\n",
    "import numpy as np\n",
    "import matplotlib.pyplot as plt\n",
    "from tensorflow.keras.datasets import mnist\n",
    "from keras.models import Model"
   ]
  },
  {
   "cell_type": "markdown",
   "id": "18709a7e-b945-4993-95d5-233d8284de75",
   "metadata": {},
   "source": [
    "### Постая нейронная сеть для преобразования градусов цельсия в градусы по фаренгейту"
   ]
  },
  {
   "cell_type": "code",
   "execution_count": 51,
   "id": "de2cee22-8fa6-4db4-90b4-c53098e0b62c",
   "metadata": {},
   "outputs": [],
   "source": [
    "c = np.array([-40, -10, 0, 8, 15, 22, 38])\n",
    "f = np.array([-40, 14, 32, 46, 59, 72, 100])\n",
    "\n",
    "model = keras.Sequential()\n",
    "\n",
    "model.add(Dense(units = 1, activation = 'linear', input_shape = (1,)))\n",
    "\n",
    "model.compile(loss = 'mean_squared_error', optimizer = keras.optimizers.Adam(0.1))\n",
    "\n",
    "history = model.fit(c, f, epochs = 1000, verbose = False)"
   ]
  },
  {
   "cell_type": "code",
   "execution_count": 52,
   "id": "8b6bd498-9804-44c5-ba0c-f0fa4e6e0fb5",
   "metadata": {},
   "outputs": [
    {
     "name": "stdout",
     "output_type": "stream",
     "text": [
      "1/1 [==============================] - 0s 110ms/step\n",
      "[[211.7441]]\n"
     ]
    }
   ],
   "source": [
    "print(model.predict([100]))"
   ]
  },
  {
   "cell_type": "code",
   "execution_count": 53,
   "id": "a353fb80-9748-4fa8-9ebf-29e4facd31cd",
   "metadata": {},
   "outputs": [
    {
     "name": "stdout",
     "output_type": "stream",
     "text": [
      "[array([[1.7981311]], dtype=float32), array([31.930979], dtype=float32)]\n"
     ]
    }
   ],
   "source": [
    "print(model.get_weights())"
   ]
  },
  {
   "cell_type": "markdown",
   "id": "937d5068-384d-4d4a-84fd-b24356210e66",
   "metadata": {},
   "source": [
    "### Нейронная сеть для классификации изобрадений"
   ]
  },
  {
   "cell_type": "code",
   "execution_count": null,
   "id": "713300d1-ed23-4190-966d-c593be0c3403",
   "metadata": {},
   "outputs": [],
   "source": [
    "(x_train, y_tarin),(x_test, y_test) = mnist.load_data()\n",
    "\n",
    "x_train = x_train / 255\n",
    "x_test = x_test / 255\n",
    "\n",
    "y_train_cat = keras.utils.to_categorical(y_tarin, 10)\n",
    "y_test_cat = keras.utils.to_categorical(y_test, 10)"
   ]
  },
  {
   "cell_type": "code",
   "execution_count": null,
   "id": "c16bf354-a12f-4dcf-a880-d020e00c0ad4",
   "metadata": {},
   "outputs": [],
   "source": [
    "model = keras.Sequential()\n",
    "model.add(Flatten(input_shape = (28, 28, 1)))\n",
    "model.add(Dense(units = 10000, activation = 'relu'))\n",
    "model.add(Dropout(rate = 0.8))\n",
    "model.add(Dense(units = 10, activation = 'softmax'))"
   ]
  },
  {
   "cell_type": "code",
   "execution_count": 64,
   "id": "a6166c9e-497a-4822-ba31-3202727df168",
   "metadata": {},
   "outputs": [],
   "source": [
    "model.compile(loss = 'categorical_crossentropy', optimizer = 'adam', metrics = ['accuracy'])"
   ]
  },
  {
   "cell_type": "code",
   "execution_count": 65,
   "id": "bcb8b95e-b5a9-46d5-b9c1-584632719e16",
   "metadata": {},
   "outputs": [
    {
     "name": "stdout",
     "output_type": "stream",
     "text": [
      "Epoch 1/10\n",
      "480/480 [==============================] - 19s 39ms/step - loss: 0.3833 - accuracy: 0.8876 - val_loss: 0.1696 - val_accuracy: 0.9506\n",
      "Epoch 2/10\n",
      "480/480 [==============================] - 21s 44ms/step - loss: 0.2299 - accuracy: 0.9331 - val_loss: 0.1245 - val_accuracy: 0.9639\n",
      "Epoch 3/10\n",
      "480/480 [==============================] - 24s 49ms/step - loss: 0.1875 - accuracy: 0.9455 - val_loss: 0.1160 - val_accuracy: 0.9663\n",
      "Epoch 4/10\n",
      "480/480 [==============================] - 22s 47ms/step - loss: 0.1626 - accuracy: 0.9531 - val_loss: 0.1355 - val_accuracy: 0.9603\n",
      "Epoch 5/10\n",
      "480/480 [==============================] - 23s 48ms/step - loss: 0.1588 - accuracy: 0.9549 - val_loss: 0.0939 - val_accuracy: 0.9732\n",
      "Epoch 6/10\n",
      "480/480 [==============================] - 31s 65ms/step - loss: 0.1500 - accuracy: 0.9581 - val_loss: 0.0956 - val_accuracy: 0.9747\n",
      "Epoch 7/10\n",
      "480/480 [==============================] - 25s 52ms/step - loss: 0.1419 - accuracy: 0.9607 - val_loss: 0.1034 - val_accuracy: 0.9737\n",
      "Epoch 8/10\n",
      "480/480 [==============================] - 23s 47ms/step - loss: 0.1384 - accuracy: 0.9616 - val_loss: 0.0968 - val_accuracy: 0.9746\n",
      "Epoch 9/10\n",
      "480/480 [==============================] - 23s 49ms/step - loss: 0.1271 - accuracy: 0.9659 - val_loss: 0.0912 - val_accuracy: 0.9770\n",
      "Epoch 10/10\n",
      "480/480 [==============================] - 23s 47ms/step - loss: 0.1284 - accuracy: 0.9656 - val_loss: 0.1055 - val_accuracy: 0.9756\n"
     ]
    },
    {
     "data": {
      "text/plain": [
       "<keras.callbacks.History at 0x18e0f02e470>"
      ]
     },
     "execution_count": 65,
     "metadata": {},
     "output_type": "execute_result"
    }
   ],
   "source": [
    "model.fit(x_train, y_train_cat, batch_size = 100, epochs = 10, validation_split = 0.2)"
   ]
  },
  {
   "cell_type": "code",
   "execution_count": 66,
   "id": "fad31d90-67e5-438a-a22a-99e2b080a8c3",
   "metadata": {},
   "outputs": [
    {
     "name": "stdout",
     "output_type": "stream",
     "text": [
      "313/313 [==============================] - 5s 15ms/step - loss: 0.0858 - accuracy: 0.9781\n"
     ]
    },
    {
     "data": {
      "text/plain": [
       "[0.0857715979218483, 0.9781000018119812]"
      ]
     },
     "execution_count": 66,
     "metadata": {},
     "output_type": "execute_result"
    }
   ],
   "source": [
    "model.evaluate(x_test, y_test_cat)"
   ]
  },
  {
   "cell_type": "markdown",
   "id": "3611eb39-a6b0-4db9-802b-0bc5cea02bdf",
   "metadata": {},
   "source": [
    "### Свертачная нейронная сеть для классификации изображений"
   ]
  },
  {
   "cell_type": "code",
   "execution_count": 88,
   "id": "af7075bc-3dd9-4bb9-8d81-1b1750533641",
   "metadata": {},
   "outputs": [],
   "source": [
    "x_test = np.expand_dims(x_test, axis = 3)\n",
    "x_train = np.expand_dims(x_train, axis = 3)"
   ]
  },
  {
   "cell_type": "code",
   "execution_count": 101,
   "id": "e1a6593d-1b11-4c9d-92e2-89f90ac67d49",
   "metadata": {},
   "outputs": [],
   "source": [
    "model_cnn = keras.Sequential()\n",
    "model_cnn.add(Conv2D(32, (4, 4), padding = 'same', activation = 'relu', input_shape = (28, 28, 1)))\n",
    "model_cnn.add(Conv2D(32, (4, 4), padding = 'same', activation = 'relu'))\n",
    "model_cnn.add(MaxPooling2D(pool_size = (2, 2), padding = 'valid', strides = 2))\n",
    "model_cnn.add(Conv2D(64, (4, 4), padding = 'same', activation = 'relu'))\n",
    "model_cnn.add(MaxPooling2D(pool_size = (2, 2), padding = 'valid', strides = 2))\n",
    "model_cnn.add(Flatten())\n",
    "model_cnn.add(Dense(units = 128, activation = 'relu'))\n",
    "model_cnn.add(Dense(units = 10, activation = 'softmax'))"
   ]
  },
  {
   "cell_type": "code",
   "execution_count": 102,
   "id": "e0f4dcc7-f0ec-4040-9637-1b0ae9bb259a",
   "metadata": {},
   "outputs": [
    {
     "name": "stdout",
     "output_type": "stream",
     "text": [
      "Model: \"sequential_16\"\n",
      "_________________________________________________________________\n",
      " Layer (type)                Output Shape              Param #   \n",
      "=================================================================\n",
      " conv2d_19 (Conv2D)          (None, 28, 28, 32)        544       \n",
      "                                                                 \n",
      " conv2d_20 (Conv2D)          (None, 28, 28, 32)        16416     \n",
      "                                                                 \n",
      " max_pooling2d_18 (MaxPoolin  (None, 14, 14, 32)       0         \n",
      " g2D)                                                            \n",
      "                                                                 \n",
      " conv2d_21 (Conv2D)          (None, 14, 14, 64)        32832     \n",
      "                                                                 \n",
      " max_pooling2d_19 (MaxPoolin  (None, 7, 7, 64)         0         \n",
      " g2D)                                                            \n",
      "                                                                 \n",
      " flatten_17 (Flatten)        (None, 3136)              0         \n",
      "                                                                 \n",
      " dense_38 (Dense)            (None, 128)               401536    \n",
      "                                                                 \n",
      " dense_39 (Dense)            (None, 10)                1290      \n",
      "                                                                 \n",
      "=================================================================\n",
      "Total params: 452,618\n",
      "Trainable params: 452,618\n",
      "Non-trainable params: 0\n",
      "_________________________________________________________________\n",
      "None\n"
     ]
    }
   ],
   "source": [
    "print(model_cnn.summary())"
   ]
  },
  {
   "cell_type": "code",
   "execution_count": 103,
   "id": "6e140d1e-68d9-4b76-85ed-474fe14bd4fb",
   "metadata": {},
   "outputs": [],
   "source": [
    "model_cnn.compile(loss = 'categorical_crossentropy', optimizer = 'adam', metrics = ['accuracy'])"
   ]
  },
  {
   "cell_type": "code",
   "execution_count": 104,
   "id": "50c8bef8-141e-402d-8b47-16c38d79102d",
   "metadata": {},
   "outputs": [
    {
     "name": "stdout",
     "output_type": "stream",
     "text": [
      "Epoch 1/10\n",
      "960/960 [==============================] - 39s 40ms/step - loss: 0.1350 - accuracy: 0.9582 - val_loss: 0.0585 - val_accuracy: 0.9822\n",
      "Epoch 2/10\n",
      "960/960 [==============================] - 45s 47ms/step - loss: 0.0417 - accuracy: 0.9871 - val_loss: 0.0424 - val_accuracy: 0.9880\n",
      "Epoch 3/10\n",
      "960/960 [==============================] - 44s 46ms/step - loss: 0.0264 - accuracy: 0.9918 - val_loss: 0.0313 - val_accuracy: 0.9904\n",
      "Epoch 4/10\n",
      "960/960 [==============================] - 44s 46ms/step - loss: 0.0195 - accuracy: 0.9937 - val_loss: 0.0382 - val_accuracy: 0.9892\n",
      "Epoch 5/10\n",
      "960/960 [==============================] - 44s 45ms/step - loss: 0.0145 - accuracy: 0.9953 - val_loss: 0.0354 - val_accuracy: 0.9893\n",
      "Epoch 6/10\n",
      "960/960 [==============================] - 44s 45ms/step - loss: 0.0115 - accuracy: 0.9963 - val_loss: 0.0340 - val_accuracy: 0.9901\n",
      "Epoch 7/10\n",
      "960/960 [==============================] - 43s 45ms/step - loss: 0.0100 - accuracy: 0.9967 - val_loss: 0.0462 - val_accuracy: 0.9897\n",
      "Epoch 8/10\n",
      "960/960 [==============================] - 47s 49ms/step - loss: 0.0096 - accuracy: 0.9969 - val_loss: 0.0368 - val_accuracy: 0.9922\n",
      "Epoch 9/10\n",
      "960/960 [==============================] - 49s 51ms/step - loss: 0.0074 - accuracy: 0.9976 - val_loss: 0.0401 - val_accuracy: 0.9898\n",
      "Epoch 10/10\n",
      "960/960 [==============================] - 47s 49ms/step - loss: 0.0046 - accuracy: 0.9984 - val_loss: 0.0400 - val_accuracy: 0.9919\n"
     ]
    },
    {
     "data": {
      "text/plain": [
       "<keras.callbacks.History at 0x18e0882ec20>"
      ]
     },
     "execution_count": 104,
     "metadata": {},
     "output_type": "execute_result"
    }
   ],
   "source": [
    "model_cnn.fit(x_train, y_train_cat, batch_size = 50, epochs = 10, validation_split = 0.2)"
   ]
  },
  {
   "cell_type": "markdown",
   "id": "dc485277-514d-4087-a2f7-dc47736ebe98",
   "metadata": {},
   "source": [
    "### Простой автоэнкодер"
   ]
  },
  {
   "cell_type": "code",
   "execution_count": 165,
   "id": "7e55b878-0caf-4aa9-955c-5424032df653",
   "metadata": {},
   "outputs": [],
   "source": [
    "(x_train, y_tarin),(x_test, y_test) = mnist.load_data()\n",
    "\n",
    "x_train = x_train / 255\n",
    "x_test = x_test / 255"
   ]
  },
  {
   "cell_type": "code",
   "execution_count": 175,
   "id": "4f03d9ba-e527-4c2a-939a-e38f37f22303",
   "metadata": {},
   "outputs": [],
   "source": [
    "model = keras.Sequential()\n",
    "\n",
    "model.add(Flatten(input_shape = (28, 28, 1)))\n",
    "model.add(Dense(units = 128, activation = 'relu'))\n",
    "model.add(Dense(units = 64, activation = 'relu'))\n",
    "model.add(Dense(units = 32, activation = 'relu'))\n",
    "model.add(Dense(units = 64, activation = 'relu'))\n",
    "model.add(Dense(units = 128, activation = 'relu'))\n",
    "model.add(Dense(units = 28 * 28, activation = 'sigmoid'))\n",
    "model.add(Reshape((28, 28, 1)))\n",
    "\n",
    "model.compile(loss = 'mean_squared_error', optimizer = 'adam')"
   ]
  },
  {
   "cell_type": "code",
   "execution_count": 176,
   "id": "9d1deaa7-52ef-4b50-83e2-4adc65866c08",
   "metadata": {},
   "outputs": [
    {
     "name": "stdout",
     "output_type": "stream",
     "text": [
      "Model: \"sequential_58\"\n",
      "_________________________________________________________________\n",
      " Layer (type)                Output Shape              Param #   \n",
      "=================================================================\n",
      " flatten_27 (Flatten)        (None, 784)               0         \n",
      "                                                                 \n",
      " dense_140 (Dense)           (None, 128)               100480    \n",
      "                                                                 \n",
      " dense_141 (Dense)           (None, 64)                8256      \n",
      "                                                                 \n",
      " dense_142 (Dense)           (None, 32)                2080      \n",
      "                                                                 \n",
      " dense_143 (Dense)           (None, 64)                2112      \n",
      "                                                                 \n",
      " dense_144 (Dense)           (None, 128)               8320      \n",
      "                                                                 \n",
      " dense_145 (Dense)           (None, 784)               101136    \n",
      "                                                                 \n",
      " reshape_36 (Reshape)        (None, 28, 28, 1)         0         \n",
      "                                                                 \n",
      "=================================================================\n",
      "Total params: 222,384\n",
      "Trainable params: 222,384\n",
      "Non-trainable params: 0\n",
      "_________________________________________________________________\n",
      "None\n"
     ]
    }
   ],
   "source": [
    "print(model.summary())"
   ]
  },
  {
   "cell_type": "code",
   "execution_count": 177,
   "id": "964b993b-2f5f-4b10-baab-2f45f0a0a112",
   "metadata": {},
   "outputs": [
    {
     "name": "stdout",
     "output_type": "stream",
     "text": [
      "Epoch 1/10\n",
      "960/960 [==============================] - 4s 4ms/step - loss: 0.0385 - val_loss: 0.0228\n",
      "Epoch 2/10\n",
      "960/960 [==============================] - 4s 4ms/step - loss: 0.0198 - val_loss: 0.0176\n",
      "Epoch 3/10\n",
      "960/960 [==============================] - 4s 4ms/step - loss: 0.0164 - val_loss: 0.0152\n",
      "Epoch 4/10\n",
      "960/960 [==============================] - 3s 4ms/step - loss: 0.0144 - val_loss: 0.0139\n",
      "Epoch 5/10\n",
      "960/960 [==============================] - 3s 4ms/step - loss: 0.0129 - val_loss: 0.0125\n",
      "Epoch 6/10\n",
      "960/960 [==============================] - 4s 4ms/step - loss: 0.0119 - val_loss: 0.0117\n",
      "Epoch 7/10\n",
      "960/960 [==============================] - 5s 5ms/step - loss: 0.0112 - val_loss: 0.0112\n",
      "Epoch 8/10\n",
      "960/960 [==============================] - 5s 5ms/step - loss: 0.0106 - val_loss: 0.0105\n",
      "Epoch 9/10\n",
      "960/960 [==============================] - 4s 5ms/step - loss: 0.0102 - val_loss: 0.0103\n",
      "Epoch 10/10\n",
      "960/960 [==============================] - 5s 5ms/step - loss: 0.0099 - val_loss: 0.0099\n"
     ]
    },
    {
     "data": {
      "text/plain": [
       "<keras.callbacks.History at 0x18e10e46e60>"
      ]
     },
     "execution_count": 177,
     "metadata": {},
     "output_type": "execute_result"
    }
   ],
   "source": [
    "model.fit(x_train, x_train, batch_size = 50, epochs = 10, validation_split = 0.2)"
   ]
  },
  {
   "cell_type": "markdown",
   "id": "6df94c9f-abbe-4c24-83f5-1e4d95f014ab",
   "metadata": {},
   "source": [
    "### Сверточный автоэнкодер"
   ]
  },
  {
   "cell_type": "code",
   "execution_count": 196,
   "id": "74c383ba-9309-45cb-b6ba-a9a992fce744",
   "metadata": {},
   "outputs": [],
   "source": [
    "model = keras.Sequential()\n",
    "\n",
    "model.add(Conv2D(10, (3, 3), padding = 'same', activation = 'relu', input_shape = (28, 28, 1)))\n",
    "model.add(MaxPooling2D(pool_size = (2,2)))\n",
    "model.add(Conv2D(5, (3, 3), padding = 'same', activation = 'relu'))\n",
    "model.add(MaxPooling2D(pool_size = (2,2)))\n",
    "\n",
    "model.add(Conv2D(3, (3, 3), padding = 'same', activation = 'relu'))\n",
    "\n",
    "model.add(Conv2DTranspose(5, (3, 3), padding = 'same', activation = 'relu'))\n",
    "model.add(UpSampling2D(2))\n",
    "model.add(Conv2DTranspose(10, (3, 3), padding = 'same', activation = 'relu'))\n",
    "model.add(UpSampling2D(2))\n",
    "\n",
    "model.add(Conv2DTranspose(1, (3, 3), padding = 'same', activation = 'sigmoid'))\n",
    "\n",
    "model.compile(loss = 'mean_squared_error', optimizer = 'adam')"
   ]
  },
  {
   "cell_type": "code",
   "execution_count": 197,
   "id": "1f8b54ea-61c5-4560-90e7-1c804cbfa7de",
   "metadata": {},
   "outputs": [
    {
     "name": "stdout",
     "output_type": "stream",
     "text": [
      "Model: \"sequential_66\"\n",
      "_________________________________________________________________\n",
      " Layer (type)                Output Shape              Param #   \n",
      "=================================================================\n",
      " conv2d_178 (Conv2D)         (None, 28, 28, 10)        100       \n",
      "                                                                 \n",
      " max_pooling2d_88 (MaxPoolin  (None, 14, 14, 10)       0         \n",
      " g2D)                                                            \n",
      "                                                                 \n",
      " conv2d_179 (Conv2D)         (None, 14, 14, 5)         455       \n",
      "                                                                 \n",
      " max_pooling2d_89 (MaxPoolin  (None, 7, 7, 5)          0         \n",
      " g2D)                                                            \n",
      "                                                                 \n",
      " conv2d_180 (Conv2D)         (None, 7, 7, 3)           138       \n",
      "                                                                 \n",
      " conv2d_transpose_45 (Conv2D  (None, 7, 7, 5)          140       \n",
      " Transpose)                                                      \n",
      "                                                                 \n",
      " up_sampling2d_43 (UpSamplin  (None, 14, 14, 5)        0         \n",
      " g2D)                                                            \n",
      "                                                                 \n",
      " conv2d_transpose_46 (Conv2D  (None, 14, 14, 10)       460       \n",
      " Transpose)                                                      \n",
      "                                                                 \n",
      " up_sampling2d_44 (UpSamplin  (None, 28, 28, 10)       0         \n",
      " g2D)                                                            \n",
      "                                                                 \n",
      " conv2d_transpose_47 (Conv2D  (None, 28, 28, 1)        91        \n",
      " Transpose)                                                      \n",
      "                                                                 \n",
      "=================================================================\n",
      "Total params: 1,384\n",
      "Trainable params: 1,384\n",
      "Non-trainable params: 0\n",
      "_________________________________________________________________\n",
      "None\n"
     ]
    }
   ],
   "source": [
    "print(model.summary())"
   ]
  },
  {
   "cell_type": "code",
   "execution_count": 198,
   "id": "fde10bed-d6a5-46e8-8bd9-75071b45442a",
   "metadata": {},
   "outputs": [
    {
     "name": "stdout",
     "output_type": "stream",
     "text": [
      "Epoch 1/3\n",
      "960/960 [==============================] - 80s 82ms/step - loss: 0.0384 - val_loss: 0.0126\n",
      "Epoch 2/3\n",
      "960/960 [==============================] - 82s 85ms/step - loss: 0.0105 - val_loss: 0.0094\n",
      "Epoch 3/3\n",
      "960/960 [==============================] - 76s 79ms/step - loss: 0.0086 - val_loss: 0.0081\n"
     ]
    },
    {
     "data": {
      "text/plain": [
       "<keras.callbacks.History at 0x18e09d56260>"
      ]
     },
     "execution_count": 198,
     "metadata": {},
     "output_type": "execute_result"
    }
   ],
   "source": [
    "model.fit(x_train, x_train, batch_size = 50, epochs = 3, validation_split = 0.2)"
   ]
  },
  {
   "cell_type": "markdown",
   "id": "31d5c65e-20e4-43ef-ac2a-d93a5bbc2c8d",
   "metadata": {},
   "source": [
    "### U-net начало"
   ]
  },
  {
   "cell_type": "code",
   "execution_count": 241,
   "id": "7d8a3418-05c7-43a3-aa69-68f461d56e5b",
   "metadata": {},
   "outputs": [],
   "source": [
    "input = tf.keras.layers.Input(shape=(28, 28, 1))\n",
    "\n",
    "# первый сверточный слой u-net\n",
    "conv_1_1 = tf.keras.layers.Conv2D(10, (3, 3), padding = 'same', activation = 'relu', input_shape = (28, 28, 1))(input)\n",
    "conv_1_2 = tf.keras.layers.Conv2D(10, (3, 3), padding = 'same', activation = 'relu')(conv_1_1)\n",
    "max_pool_1 = tf.keras.layers.MaxPooling2D(pool_size = (2, 2))(conv_1_2)\n",
    "\n",
    "# второй сверточный слой u-net\n",
    "conv_2_1 = tf.keras.layers.Conv2D(20, (3, 3), padding = 'same', activation = 'relu')(max_pool_1)\n",
    "conv_2_2 = tf.keras.layers.Conv2D(20, (3, 3), padding = 'same', activation = 'relu')(conv_2_1)\n",
    "max_pool_2 = tf.keras.layers.MaxPooling2D(pool_size = (2, 2))(conv_2_2)\n",
    "\n",
    "# третий сверточный слой u-net\n",
    "conv_3_1 = tf.keras.layers.Conv2D(40, (3, 3), padding = 'same', activation = 'relu')(max_pool_2)\n",
    "conv_3_2 = tf.keras.layers.Conv2D(40, (3, 3), padding = 'same', activation = 'relu')(conv_3_1)\n",
    "max_pool_3 = tf.keras.layers.MaxPooling2D(pool_size = (2, 2))(conv_3_2)\n",
    "\n",
    "# сверточный слой u-net\n",
    "conv_4_1 = tf.keras.layers.Conv2D(80, (3, 3), padding = 'same', activation = 'relu')(max_pool_3)\n",
    "\n",
    "# первый слой обратного преобразования\n",
    "conv_up_1_1 = tf.keras.layers.concatenate([tf.keras.layers.Conv2DTranspose(40, (3, 3), padding = 'same', activation = 'relu')(conv_4_1), max_pool_3])\n",
    "upsampler_1_1 = tf.keras.layers.UpSampling2D(2)(conv_up_1_1)\n",
    "\n",
    "#второй слой обратного преобразования\n",
    "#conv_up_2_1 = tf.keras.layers.concatenate([tf.keras.layers.Conv2DTranspose(20, (3, 3), padding = 'same', activation = 'relu')(upsampler_1_1), max_pool_2])\n",
    "#upsampler_2_1 = tf.keras.layers.UpSampling2D(2)(conv_up_2_1)\n",
    "\n",
    "autoencoder = Model(input, upsampler_1_1)\n",
    "autoencoder.compile(optimizer=\"adam\", loss=\"binary_crossentropy\")"
   ]
  },
  {
   "cell_type": "code",
   "execution_count": 242,
   "id": "89d55aef-01c4-404b-b9d3-e08e204aee0a",
   "metadata": {},
   "outputs": [
    {
     "name": "stdout",
     "output_type": "stream",
     "text": [
      "Model: \"model_13\"\n",
      "__________________________________________________________________________________________________\n",
      " Layer (type)                   Output Shape         Param #     Connected to                     \n",
      "==================================================================================================\n",
      " input_25 (InputLayer)          [(None, 28, 28, 1)]  0           []                               \n",
      "                                                                                                  \n",
      " conv2d_308 (Conv2D)            (None, 28, 28, 10)   100         ['input_25[0][0]']               \n",
      "                                                                                                  \n",
      " conv2d_309 (Conv2D)            (None, 28, 28, 10)   910         ['conv2d_308[0][0]']             \n",
      "                                                                                                  \n",
      " max_pooling2d_147 (MaxPooling2  (None, 14, 14, 10)  0           ['conv2d_309[0][0]']             \n",
      " D)                                                                                               \n",
      "                                                                                                  \n",
      " conv2d_310 (Conv2D)            (None, 14, 14, 20)   1820        ['max_pooling2d_147[0][0]']      \n",
      "                                                                                                  \n",
      " conv2d_311 (Conv2D)            (None, 14, 14, 20)   3620        ['conv2d_310[0][0]']             \n",
      "                                                                                                  \n",
      " max_pooling2d_148 (MaxPooling2  (None, 7, 7, 20)    0           ['conv2d_311[0][0]']             \n",
      " D)                                                                                               \n",
      "                                                                                                  \n",
      " conv2d_312 (Conv2D)            (None, 7, 7, 40)     7240        ['max_pooling2d_148[0][0]']      \n",
      "                                                                                                  \n",
      " conv2d_313 (Conv2D)            (None, 7, 7, 40)     14440       ['conv2d_312[0][0]']             \n",
      "                                                                                                  \n",
      " max_pooling2d_149 (MaxPooling2  (None, 3, 3, 40)    0           ['conv2d_313[0][0]']             \n",
      " D)                                                                                               \n",
      "                                                                                                  \n",
      " conv2d_314 (Conv2D)            (None, 3, 3, 80)     28880       ['max_pooling2d_149[0][0]']      \n",
      "                                                                                                  \n",
      " conv2d_transpose_57 (Conv2DTra  (None, 3, 3, 40)    28840       ['conv2d_314[0][0]']             \n",
      " nspose)                                                                                          \n",
      "                                                                                                  \n",
      " concatenate_9 (Concatenate)    (None, 3, 3, 80)     0           ['conv2d_transpose_57[0][0]',    \n",
      "                                                                  'max_pooling2d_149[0][0]']      \n",
      "                                                                                                  \n",
      " up_sampling2d_48 (UpSampling2D  (None, 6, 6, 80)    0           ['concatenate_9[0][0]']          \n",
      " )                                                                                                \n",
      "                                                                                                  \n",
      "==================================================================================================\n",
      "Total params: 85,850\n",
      "Trainable params: 85,850\n",
      "Non-trainable params: 0\n",
      "__________________________________________________________________________________________________\n"
     ]
    }
   ],
   "source": [
    "autoencoder.summary()"
   ]
  },
  {
   "cell_type": "code",
   "execution_count": null,
   "id": "604c5cee-ce82-4738-bc89-3e93db9328e3",
   "metadata": {},
   "outputs": [],
   "source": []
  }
 ],
 "metadata": {
  "kernelspec": {
   "display_name": "Python 3 (ipykernel)",
   "language": "python",
   "name": "python3"
  },
  "language_info": {
   "codemirror_mode": {
    "name": "ipython",
    "version": 3
   },
   "file_extension": ".py",
   "mimetype": "text/x-python",
   "name": "python",
   "nbconvert_exporter": "python",
   "pygments_lexer": "ipython3",
   "version": "3.10.13"
  }
 },
 "nbformat": 4,
 "nbformat_minor": 5
}
